{
 "cells": [
  {
   "cell_type": "markdown",
   "metadata": {},
   "source": [
    "# NeSVoR Inference Example\n",
    "\n",
    "This notebook demonstrates how to perform inference (sampling) on a pre-trained NeSVoR model.\n",
    "\n",
    "## What you need:\n",
    "- A trained model file (`.pt` file from training)\n",
    "- Desired output resolution\n",
    "\n",
    "## What you get:\n",
    "- High-resolution 3D volume (.nii.gz)"
   ]
  },
  {
   "cell_type": "markdown",
   "metadata": {},
   "source": [
    "## Setup"
   ]
  },
  {
   "cell_type": "code",
   "execution_count": null,
   "metadata": {},
   "outputs": [],
   "source": [
    "import torch\n",
    "import logging\n",
    "import matplotlib.pyplot as plt\n",
    "import numpy as np\n",
    "\n",
    "from model.models import INR\n",
    "from model.sample import sample_volume\n",
    "from utils import Volume\n",
    "\n",
    "# Configure logging\n",
    "logging.basicConfig(level=logging.INFO, format='%(asctime)s - %(levelname)s - %(message)s')\n",
    "\n",
    "print(f\"PyTorch version: {torch.__version__}\")\n",
    "print(f\"CUDA available: {torch.cuda.is_available()}\")\n",
    "if torch.cuda.is_available():\n",
    "    print(f\"CUDA device: {torch.cuda.get_device_name(0)}\")"
   ]
  },
  {
   "cell_type": "markdown",
   "metadata": {},
   "source": [
    "## Configuration\n",
    "\n",
    "**IMPORTANT**: Update the paths below to match your files!"
   ]
  },
  {
   "cell_type": "code",
   "execution_count": null,
   "metadata": {},
   "outputs": [],
   "source": [
    "# ===== UPDATE THESE PATHS =====\n",
    "MODEL_PATH = \"path/to/your/trained_model.pt\"  # Your trained model\n",
    "OUTPUT_PATH = \"output_volume.nii.gz\"          # Where to save output\n",
    "\n",
    "# Sampling parameters\n",
    "OUTPUT_RESOLUTION = 0.8      # Output resolution in mm (lower = higher resolution)\n",
    "N_INFERENCE_SAMPLES = 128    # Number of PSF samples (higher = better quality, slower)\n",
    "INFERENCE_BATCH_SIZE = 1024  # Batch size (higher = faster, more memory)\n",
    "\n",
    "# Optional parameters\n",
    "OUTPUT_INTENSITY_MEAN = None  # Set to rescale intensity (e.g., 1000.0)\n",
    "WITH_BACKGROUND = False       # Set True to include background\n",
    "\n",
    "# Device\n",
    "DEVICE = torch.device('cuda' if torch.cuda.is_available() else 'cpu')\n",
    "\n",
    "print(\"Configuration:\")\n",
    "print(f\"  Model: {MODEL_PATH}\")\n",
    "print(f\"  Output: {OUTPUT_PATH}\")\n",
    "print(f\"  Resolution: {OUTPUT_RESOLUTION} mm\")\n",
    "print(f\"  Device: {DEVICE}\")"
   ]
  },
  {
   "cell_type": "markdown",
   "metadata": {},
   "source": [
    "## Step 1: Load Trained Model"
   ]
  },
  {
   "cell_type": "code",
   "execution_count": null,
   "metadata": {},
   "outputs": [],
   "source": [
    "print(\"Loading trained model...\")\n",
    "\n",
    "# Load checkpoint\n",
    "checkpoint = torch.load(MODEL_PATH, map_location=DEVICE)\n",
    "\n",
    "# Extract components\n",
    "model_state = checkpoint[\"model\"]\n",
    "mask = checkpoint[\"mask\"]\n",
    "args = checkpoint[\"args\"]\n",
    "\n",
    "# Create model instance\n",
    "model = INR(model_state[\"bounding_box\"], args)\n",
    "model.load_state_dict(model_state)\n",
    "model.to(DEVICE)\n",
    "model.eval()\n",
    "\n",
    "print(\"✓ Model loaded successfully\")\n",
    "print(f\"\\nModel Information:\")\n",
    "print(f\"  Bounding box: {model.bounding_box.cpu().numpy()}\")\n",
    "print(f\"  Total parameters: {sum(p.numel() for p in model.parameters()):,}\")\n",
    "\n",
    "print(f\"\\nMask Information:\")\n",
    "print(f\"  Shape: {mask.image.shape}\")\n",
    "print(f\"  Resolution: {mask.resolution_x:.3f} mm\")\n",
    "print(f\"  Masked voxels: {mask.image.sum().item():,}\")"
   ]
  },
  {
   "cell_type": "markdown",
   "metadata": {},
   "source": [
    "## Step 2: Visualize Reconstruction Mask"
   ]
  },
  {
   "cell_type": "code",
   "execution_count": null,
   "metadata": {},
   "outputs": [],
   "source": [
    "# Show mask in 3 orthogonal views\n",
    "mask_data = mask.image[0].cpu().numpy()\n",
    "\n",
    "fig, axes = plt.subplots(1, 3, figsize=(15, 5))\n",
    "\n",
    "# Sagittal\n",
    "mid_x = mask_data.shape[0] // 2\n",
    "axes[0].imshow(mask_data[mid_x, :, :].T, cmap='binary', origin='lower')\n",
    "axes[0].set_title('Sagittal View (YZ)')\n",
    "axes[0].axis('off')\n",
    "\n",
    "# Coronal\n",
    "mid_y = mask_data.shape[1] // 2\n",
    "axes[1].imshow(mask_data[:, mid_y, :].T, cmap='binary', origin='lower')\n",
    "axes[1].set_title('Coronal View (XZ)')\n",
    "axes[1].axis('off')\n",
    "\n",
    "# Axial\n",
    "mid_z = mask_data.shape[2] // 2\n",
    "axes[2].imshow(mask_data[:, :, mid_z].T, cmap='binary', origin='lower')\n",
    "axes[2].set_title('Axial View (XY)')\n",
    "axes[2].axis('off')\n",
    "\n",
    "plt.suptitle('Reconstruction Mask', fontsize=14, fontweight='bold')\n",
    "plt.tight_layout()\n",
    "plt.show()"
   ]
  },
  {
   "cell_type": "markdown",
   "metadata": {},
   "source": [
    "## Step 3: Sample High-Resolution Volume\n",
    "\n",
    "This is the main inference step where we query the trained implicit neural representation to generate a high-resolution volume."
   ]
  },
  {
   "cell_type": "code",
   "execution_count": null,
   "metadata": {},
   "outputs": [],
   "source": [
    "print(\"Sampling high-resolution volume...\")\n",
    "print(f\"  Resolution: {OUTPUT_RESOLUTION} mm\")\n",
    "print(f\"  PSF samples: {N_INFERENCE_SAMPLES}\")\n",
    "print(f\"  Batch size: {INFERENCE_BATCH_SIZE}\")\n",
    "print(\"\\nThis may take a few minutes...\")\n",
    "\n",
    "# Sample volume\n",
    "output_volume = sample_volume(\n",
    "    model,\n",
    "    mask,\n",
    "    psf_resolution=OUTPUT_RESOLUTION,\n",
    "    batch_size=INFERENCE_BATCH_SIZE,\n",
    "    n_samples=N_INFERENCE_SAMPLES,\n",
    ")\n",
    "\n",
    "print(\"\\n✓ Volume sampled successfully!\")\n",
    "print(f\"\\nOutput Volume Information:\")\n",
    "print(f\"  Shape: {output_volume.image.shape}\")\n",
    "print(f\"  Resolution: {output_volume.resolution_x:.3f} mm (isotropic)\")\n",
    "print(f\"  Data type: {output_volume.image.dtype}\")\n",
    "print(f\"  Intensity range: [{output_volume.image.min().item():.2f}, {output_volume.image.max().item():.2f}]\")\n",
    "print(f\"  Mean intensity: {output_volume.image.mean().item():.2f}\")"
   ]
  },
  {
   "cell_type": "markdown",
   "metadata": {},
   "source": [
    "## Step 4: Visualize Output Volume"
   ]
  },
  {
   "cell_type": "code",
   "execution_count": null,
   "metadata": {},
   "outputs": [],
   "source": [
    "# Show orthogonal views\n",
    "vol_data = output_volume.image[0].cpu().numpy()\n",
    "\n",
    "fig, axes = plt.subplots(1, 3, figsize=(15, 5))\n",
    "\n",
    "# Sagittal\n",
    "mid_x = vol_data.shape[0] // 2\n",
    "axes[0].imshow(vol_data[mid_x, :, :].T, cmap='gray', origin='lower')\n",
    "axes[0].set_title('Sagittal View (YZ)')\n",
    "axes[0].axis('off')\n",
    "\n",
    "# Coronal\n",
    "mid_y = vol_data.shape[1] // 2\n",
    "axes[1].imshow(vol_data[:, mid_y, :].T, cmap='gray', origin='lower')\n",
    "axes[1].set_title('Coronal View (XZ)')\n",
    "axes[1].axis('off')\n",
    "\n",
    "# Axial\n",
    "mid_z = vol_data.shape[2] // 2\n",
    "axes[2].imshow(vol_data[:, :, mid_z].T, cmap='gray', origin='lower')\n",
    "axes[2].set_title('Axial View (XY)')\n",
    "axes[2].axis('off')\n",
    "\n",
    "plt.suptitle(f'Output Volume ({OUTPUT_RESOLUTION}mm isotropic)', fontsize=14, fontweight='bold')\n",
    "plt.tight_layout()\n",
    "plt.show()"
   ]
  },
  {
   "cell_type": "markdown",
   "metadata": {},
   "source": [
    "## Step 5: Intensity Distribution"
   ]
  },
  {
   "cell_type": "code",
   "execution_count": null,
   "metadata": {},
   "outputs": [],
   "source": [
    "# Plot intensity histogram\n",
    "data = output_volume.image[output_volume.image > 0].cpu().numpy().flatten()\n",
    "\n",
    "fig, ax = plt.subplots(1, 1, figsize=(10, 4))\n",
    "ax.hist(data, bins=50, alpha=0.7, edgecolor='black', color='steelblue')\n",
    "ax.set_xlabel('Intensity')\n",
    "ax.set_ylabel('Frequency')\n",
    "ax.set_title('Output Volume: Intensity Distribution')\n",
    "ax.grid(True, alpha=0.3)\n",
    "\n",
    "# Add statistics\n",
    "ax.axvline(data.mean(), color='red', linestyle='--', linewidth=2, label=f'Mean: {data.mean():.2f}')\n",
    "ax.axvline(np.median(data), color='green', linestyle='--', linewidth=2, label=f'Median: {np.median(data):.2f}')\n",
    "ax.legend()\n",
    "\n",
    "plt.tight_layout()\n",
    "plt.show()"
   ]
  },
  {
   "cell_type": "markdown",
   "metadata": {},
   "source": [
    "## Step 6: Interactive Slice Viewer (Optional)\n",
    "\n",
    "Use sliders to explore different slices of the volume."
   ]
  },
  {
   "cell_type": "code",
   "execution_count": null,
   "metadata": {},
   "outputs": [],
   "source": [
    "from ipywidgets import interact, IntSlider\n",
    "\n",
    "def show_slice(axis, slice_idx):\n",
    "    \"\"\"Interactive slice viewer.\"\"\"\n",
    "    vol_data = output_volume.image[0].cpu().numpy()\n",
    "    \n",
    "    if axis == 0:  # Sagittal\n",
    "        slice_data = vol_data[slice_idx, :, :]\n",
    "        title = f'Sagittal (YZ) - Slice {slice_idx}/{vol_data.shape[0]-1}'\n",
    "    elif axis == 1:  # Coronal\n",
    "        slice_data = vol_data[:, slice_idx, :]\n",
    "        title = f'Coronal (XZ) - Slice {slice_idx}/{vol_data.shape[1]-1}'\n",
    "    else:  # Axial\n",
    "        slice_data = vol_data[:, :, slice_idx]\n",
    "        title = f'Axial (XY) - Slice {slice_idx}/{vol_data.shape[2]-1}'\n",
    "    \n",
    "    plt.figure(figsize=(8, 8))\n",
    "    plt.imshow(slice_data.T, cmap='gray', origin='lower')\n",
    "    plt.title(title, fontsize=14)\n",
    "    plt.axis('off')\n",
    "    plt.show()\n",
    "\n",
    "# Create interactive viewer\n",
    "vol_shape = output_volume.image[0].shape\n",
    "print(\"📊 Interactive Slice Viewer:\")\n",
    "print(\"  Axis 0: Sagittal (YZ)\")\n",
    "print(\"  Axis 1: Coronal (XZ)\")\n",
    "print(\"  Axis 2: Axial (XY)\")\n",
    "\n",
    "interact(\n",
    "    show_slice,\n",
    "    axis=IntSlider(min=0, max=2, step=1, value=2, description='Axis:'),\n",
    "    slice_idx=IntSlider(min=0, max=max(vol_shape)-1, step=1, value=max(vol_shape)//2, description='Slice:')\n",
    ")"
   ]
  },
  {
   "cell_type": "markdown",
   "metadata": {},
   "source": [
    "## Step 7: (Optional) Rescale Intensity\n",
    "\n",
    "If you want to rescale the output to a specific mean intensity."
   ]
  },
  {
   "cell_type": "code",
   "execution_count": null,
   "metadata": {},
   "outputs": [],
   "source": [
    "if OUTPUT_INTENSITY_MEAN is not None:\n",
    "    print(f\"Rescaling intensity to mean={OUTPUT_INTENSITY_MEAN}\")\n",
    "    output_volume.rescale(OUTPUT_INTENSITY_MEAN)\n",
    "    print(f\"✓ New intensity range: [{output_volume.image.min().item():.2f}, {output_volume.image.max().item():.2f}]\")\n",
    "    print(f\"✓ New mean: {output_volume.image.mean().item():.2f}\")\n",
    "else:\n",
    "    print(\"No intensity rescaling requested\")"
   ]
  },
  {
   "cell_type": "markdown",
   "metadata": {},
   "source": [
    "## Step 8: Save Output Volume"
   ]
  },
  {
   "cell_type": "code",
   "execution_count": null,
   "metadata": {},
   "outputs": [],
   "source": [
    "print(f\"Saving volume to {OUTPUT_PATH}...\")\n",
    "\n",
    "# Save volume\n",
    "output_volume.save(OUTPUT_PATH, masked=not WITH_BACKGROUND)\n",
    "\n",
    "print(\"✓ Volume saved successfully!\")\n",
    "print(f\"\\nOutput file: {OUTPUT_PATH}\")\n",
    "print(f\"  Shape: {output_volume.image.shape}\")\n",
    "print(f\"  Resolution: {OUTPUT_RESOLUTION} mm (isotropic)\")\n",
    "print(f\"  Background: {'Included' if WITH_BACKGROUND else 'Masked'}\")"
   ]
  },
  {
   "cell_type": "markdown",
   "metadata": {},
   "source": [
    "## Summary"
   ]
  },
  {
   "cell_type": "code",
   "execution_count": null,
   "metadata": {},
   "outputs": [],
   "source": [
    "print(\"=\"*80)\n",
    "print(\"INFERENCE SUMMARY\")\n",
    "print(\"=\"*80)\n",
    "print(f\"\\n📥 Input:\")\n",
    "print(f\"  Model: {MODEL_PATH}\")\n",
    "print(f\"  Parameters: {sum(p.numel() for p in model.parameters()):,}\")\n",
    "\n",
    "print(f\"\\n⚙️  Settings:\")\n",
    "print(f\"  Resolution: {OUTPUT_RESOLUTION} mm\")\n",
    "print(f\"  PSF samples: {N_INFERENCE_SAMPLES}\")\n",
    "print(f\"  Device: {DEVICE}\")\n",
    "\n",
    "print(f\"\\n📤 Output:\")\n",
    "print(f\"  File: {OUTPUT_PATH}\")\n",
    "print(f\"  Shape: {output_volume.image.shape}\")\n",
    "print(f\"  Resolution: {output_volume.resolution_x:.3f} mm (isotropic)\")\n",
    "print(f\"  Intensity: [{output_volume.image.min().item():.2f}, {output_volume.image.max().item():.2f}]\")\n",
    "\n",
    "print(\"\\n\" + \"=\"*80)\n",
    "print(\"✅ INFERENCE COMPLETED SUCCESSFULLY\")\n",
    "print(\"=\"*80)"
   ]
  }
 ],
 "metadata": {
  "kernelspec": {
   "display_name": "Python 3",
   "language": "python",
   "name": "python3"
  },
  "language_info": {
   "codemirror_mode": {
    "name": "ipython",
    "version": 3
   },
   "file_extension": ".py",
   "mimetype": "text/x-python",
   "name": "python",
   "nbconvert_exporter": "python",
   "pygments_lexer": "ipython3",
   "version": "3.8.0"
  }
 },
 "nbformat": 4,
 "nbformat_minor": 4
}
